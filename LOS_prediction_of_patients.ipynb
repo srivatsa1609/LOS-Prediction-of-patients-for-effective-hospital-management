{
  "nbformat": 4,
  "nbformat_minor": 0,
  "metadata": {
    "colab": {
      "name": "LOS prediction of covid patients.ipynb",
      "provenance": [],
      "mount_file_id": "16tz6y86K9jAzVMcsjpRKx-A82K06VgSt",
      "authorship_tag": "ABX9TyPU/LSgFBU+TSCo186AGd0z",
      "include_colab_link": true
    },
    "kernelspec": {
      "name": "python3",
      "display_name": "Python 3"
    },
    "language_info": {
      "name": "python"
    }
  },
  "cells": [
    {
      "cell_type": "markdown",
      "metadata": {
        "id": "view-in-github",
        "colab_type": "text"
      },
      "source": [
        "<a href=\"https://colab.research.google.com/github/srivatsa1609/LOS-Prediction-of-patients-for-effective-hospital-management/blob/main/LOS_prediction_of_patients.ipynb\" target=\"_parent\"><img src=\"https://colab.research.google.com/assets/colab-badge.svg\" alt=\"Open In Colab\"/></a>"
      ]
    },
    {
      "cell_type": "markdown",
      "metadata": {
        "id": "qIE8_30QuHBK"
      },
      "source": [
        "**Importing Libraries**"
      ]
    },
    {
      "cell_type": "code",
      "metadata": {
        "id": "p79LJFiWufmI"
      },
      "source": [
        "import pandas as pd\n",
        "import numpy as np\n",
        "import matplotlib.pyplot as plt\n",
        "import seaborn as sns\n",
        "from sklearn.model_selection import train_test_split\n",
        "from sklearn import preprocessing\n",
        "from sklearn.tree import DecisionTreeClassifier\n",
        "from sklearn import metrics"
      ],
      "execution_count": 148,
      "outputs": []
    },
    {
      "cell_type": "markdown",
      "metadata": {
        "id": "jNPO_zKguDhB"
      },
      "source": [
        "**Analysis**"
      ]
    },
    {
      "cell_type": "code",
      "metadata": {
        "id": "BSJnG20oxhDT"
      },
      "source": [
        "df=pd.read_csv('/content/drive/MyDrive/healthcare analytics of covid 19 length of stay prediction/train_data.csv')"
      ],
      "execution_count": 79,
      "outputs": []
    },
    {
      "cell_type": "code",
      "metadata": {
        "id": "JcUXMinPzTS-"
      },
      "source": [
        "df=df.rename(columns={\"Stay\":\"Decision\"})"
      ],
      "execution_count": 80,
      "outputs": []
    },
    {
      "cell_type": "code",
      "metadata": {
        "colab": {
          "base_uri": "https://localhost:8080/",
          "height": 361
        },
        "id": "M3OrxcU5zok_",
        "outputId": "fdbd2326-4610-41df-940b-a55a5fc60317"
      },
      "source": [
        "df.head()"
      ],
      "execution_count": 81,
      "outputs": [
        {
          "output_type": "execute_result",
          "data": {
            "text/html": [
              "<div>\n",
              "<style scoped>\n",
              "    .dataframe tbody tr th:only-of-type {\n",
              "        vertical-align: middle;\n",
              "    }\n",
              "\n",
              "    .dataframe tbody tr th {\n",
              "        vertical-align: top;\n",
              "    }\n",
              "\n",
              "    .dataframe thead th {\n",
              "        text-align: right;\n",
              "    }\n",
              "</style>\n",
              "<table border=\"1\" class=\"dataframe\">\n",
              "  <thead>\n",
              "    <tr style=\"text-align: right;\">\n",
              "      <th></th>\n",
              "      <th>case_id</th>\n",
              "      <th>Hospital_code</th>\n",
              "      <th>Hospital_type_code</th>\n",
              "      <th>City_Code_Hospital</th>\n",
              "      <th>Hospital_region_code</th>\n",
              "      <th>Available Extra Rooms in Hospital</th>\n",
              "      <th>Department</th>\n",
              "      <th>Ward_Type</th>\n",
              "      <th>Ward_Facility_Code</th>\n",
              "      <th>Bed Grade</th>\n",
              "      <th>patientid</th>\n",
              "      <th>City_Code_Patient</th>\n",
              "      <th>Type of Admission</th>\n",
              "      <th>Severity of Illness</th>\n",
              "      <th>Visitors with Patient</th>\n",
              "      <th>Age</th>\n",
              "      <th>Admission_Deposit</th>\n",
              "      <th>Decision</th>\n",
              "    </tr>\n",
              "  </thead>\n",
              "  <tbody>\n",
              "    <tr>\n",
              "      <th>0</th>\n",
              "      <td>1</td>\n",
              "      <td>8</td>\n",
              "      <td>c</td>\n",
              "      <td>3</td>\n",
              "      <td>Z</td>\n",
              "      <td>3</td>\n",
              "      <td>radiotherapy</td>\n",
              "      <td>R</td>\n",
              "      <td>F</td>\n",
              "      <td>2.0</td>\n",
              "      <td>31397</td>\n",
              "      <td>7.0</td>\n",
              "      <td>Emergency</td>\n",
              "      <td>Extreme</td>\n",
              "      <td>2</td>\n",
              "      <td>51-60</td>\n",
              "      <td>4911.0</td>\n",
              "      <td>0-10</td>\n",
              "    </tr>\n",
              "    <tr>\n",
              "      <th>1</th>\n",
              "      <td>2</td>\n",
              "      <td>2</td>\n",
              "      <td>c</td>\n",
              "      <td>5</td>\n",
              "      <td>Z</td>\n",
              "      <td>2</td>\n",
              "      <td>radiotherapy</td>\n",
              "      <td>S</td>\n",
              "      <td>F</td>\n",
              "      <td>2.0</td>\n",
              "      <td>31397</td>\n",
              "      <td>7.0</td>\n",
              "      <td>Trauma</td>\n",
              "      <td>Extreme</td>\n",
              "      <td>2</td>\n",
              "      <td>51-60</td>\n",
              "      <td>5954.0</td>\n",
              "      <td>41-50</td>\n",
              "    </tr>\n",
              "    <tr>\n",
              "      <th>2</th>\n",
              "      <td>3</td>\n",
              "      <td>10</td>\n",
              "      <td>e</td>\n",
              "      <td>1</td>\n",
              "      <td>X</td>\n",
              "      <td>2</td>\n",
              "      <td>anesthesia</td>\n",
              "      <td>S</td>\n",
              "      <td>E</td>\n",
              "      <td>2.0</td>\n",
              "      <td>31397</td>\n",
              "      <td>7.0</td>\n",
              "      <td>Trauma</td>\n",
              "      <td>Extreme</td>\n",
              "      <td>2</td>\n",
              "      <td>51-60</td>\n",
              "      <td>4745.0</td>\n",
              "      <td>31-40</td>\n",
              "    </tr>\n",
              "    <tr>\n",
              "      <th>3</th>\n",
              "      <td>4</td>\n",
              "      <td>26</td>\n",
              "      <td>b</td>\n",
              "      <td>2</td>\n",
              "      <td>Y</td>\n",
              "      <td>2</td>\n",
              "      <td>radiotherapy</td>\n",
              "      <td>R</td>\n",
              "      <td>D</td>\n",
              "      <td>2.0</td>\n",
              "      <td>31397</td>\n",
              "      <td>7.0</td>\n",
              "      <td>Trauma</td>\n",
              "      <td>Extreme</td>\n",
              "      <td>2</td>\n",
              "      <td>51-60</td>\n",
              "      <td>7272.0</td>\n",
              "      <td>41-50</td>\n",
              "    </tr>\n",
              "    <tr>\n",
              "      <th>4</th>\n",
              "      <td>5</td>\n",
              "      <td>26</td>\n",
              "      <td>b</td>\n",
              "      <td>2</td>\n",
              "      <td>Y</td>\n",
              "      <td>2</td>\n",
              "      <td>radiotherapy</td>\n",
              "      <td>S</td>\n",
              "      <td>D</td>\n",
              "      <td>2.0</td>\n",
              "      <td>31397</td>\n",
              "      <td>7.0</td>\n",
              "      <td>Trauma</td>\n",
              "      <td>Extreme</td>\n",
              "      <td>2</td>\n",
              "      <td>51-60</td>\n",
              "      <td>5558.0</td>\n",
              "      <td>41-50</td>\n",
              "    </tr>\n",
              "  </tbody>\n",
              "</table>\n",
              "</div>"
            ],
            "text/plain": [
              "   case_id  Hospital_code Hospital_type_code  ...    Age Admission_Deposit  Decision\n",
              "0        1              8                  c  ...  51-60            4911.0      0-10\n",
              "1        2              2                  c  ...  51-60            5954.0     41-50\n",
              "2        3             10                  e  ...  51-60            4745.0     31-40\n",
              "3        4             26                  b  ...  51-60            7272.0     41-50\n",
              "4        5             26                  b  ...  51-60            5558.0     41-50\n",
              "\n",
              "[5 rows x 18 columns]"
            ]
          },
          "metadata": {},
          "execution_count": 81
        }
      ]
    },
    {
      "cell_type": "code",
      "metadata": {
        "id": "H_palBt7fjmf"
      },
      "source": [
        "df['Bed Grade'].fillna(df['Bed Grade'].mode()[0],inplace=True)"
      ],
      "execution_count": 82,
      "outputs": []
    },
    {
      "cell_type": "code",
      "metadata": {
        "id": "-0IpSyKHzucY"
      },
      "source": [
        "df.drop(['Hospital_code','City_Code_Hospital','Hospital_region_code','Ward_Type','Ward_Facility_Code','City_Code_Patient','Visitors with Patient','Admission_Deposit'],axis=1,inplace=True)"
      ],
      "execution_count": 83,
      "outputs": []
    },
    {
      "cell_type": "code",
      "metadata": {
        "colab": {
          "base_uri": "https://localhost:8080/",
          "height": 180
        },
        "id": "axK2GdXB0uve",
        "outputId": "214e244d-1420-4bd5-85c0-df0138e6589f"
      },
      "source": [
        "df.head(2)"
      ],
      "execution_count": 84,
      "outputs": [
        {
          "output_type": "execute_result",
          "data": {
            "text/html": [
              "<div>\n",
              "<style scoped>\n",
              "    .dataframe tbody tr th:only-of-type {\n",
              "        vertical-align: middle;\n",
              "    }\n",
              "\n",
              "    .dataframe tbody tr th {\n",
              "        vertical-align: top;\n",
              "    }\n",
              "\n",
              "    .dataframe thead th {\n",
              "        text-align: right;\n",
              "    }\n",
              "</style>\n",
              "<table border=\"1\" class=\"dataframe\">\n",
              "  <thead>\n",
              "    <tr style=\"text-align: right;\">\n",
              "      <th></th>\n",
              "      <th>case_id</th>\n",
              "      <th>Hospital_type_code</th>\n",
              "      <th>Available Extra Rooms in Hospital</th>\n",
              "      <th>Department</th>\n",
              "      <th>Bed Grade</th>\n",
              "      <th>patientid</th>\n",
              "      <th>Type of Admission</th>\n",
              "      <th>Severity of Illness</th>\n",
              "      <th>Age</th>\n",
              "      <th>Decision</th>\n",
              "    </tr>\n",
              "  </thead>\n",
              "  <tbody>\n",
              "    <tr>\n",
              "      <th>0</th>\n",
              "      <td>1</td>\n",
              "      <td>c</td>\n",
              "      <td>3</td>\n",
              "      <td>radiotherapy</td>\n",
              "      <td>2.0</td>\n",
              "      <td>31397</td>\n",
              "      <td>Emergency</td>\n",
              "      <td>Extreme</td>\n",
              "      <td>51-60</td>\n",
              "      <td>0-10</td>\n",
              "    </tr>\n",
              "    <tr>\n",
              "      <th>1</th>\n",
              "      <td>2</td>\n",
              "      <td>c</td>\n",
              "      <td>2</td>\n",
              "      <td>radiotherapy</td>\n",
              "      <td>2.0</td>\n",
              "      <td>31397</td>\n",
              "      <td>Trauma</td>\n",
              "      <td>Extreme</td>\n",
              "      <td>51-60</td>\n",
              "      <td>41-50</td>\n",
              "    </tr>\n",
              "  </tbody>\n",
              "</table>\n",
              "</div>"
            ],
            "text/plain": [
              "   case_id Hospital_type_code  ...    Age Decision\n",
              "0        1                  c  ...  51-60     0-10\n",
              "1        2                  c  ...  51-60    41-50\n",
              "\n",
              "[2 rows x 10 columns]"
            ]
          },
          "metadata": {},
          "execution_count": 84
        }
      ]
    },
    {
      "cell_type": "code",
      "metadata": {
        "id": "_DYMW9g00_J1"
      },
      "source": [
        "df['Decision'].replace('Nov-20','11-20',inplace=True)"
      ],
      "execution_count": 85,
      "outputs": []
    },
    {
      "cell_type": "code",
      "metadata": {
        "colab": {
          "base_uri": "https://localhost:8080/"
        },
        "id": "8aCkAg31MbXW",
        "outputId": "2650bd61-33ee-4ec0-eb5b-20389118cc0b"
      },
      "source": [
        "df['Hospital_type_code'].value_counts()"
      ],
      "execution_count": 86,
      "outputs": [
        {
          "output_type": "execute_result",
          "data": {
            "text/plain": [
              "a    143425\n",
              "b     68946\n",
              "c     45928\n",
              "e     24770\n",
              "d     20389\n",
              "f     10703\n",
              "g      4277\n",
              "Name: Hospital_type_code, dtype: int64"
            ]
          },
          "metadata": {},
          "execution_count": 86
        }
      ]
    },
    {
      "cell_type": "markdown",
      "metadata": {
        "id": "KJT3D9ZCJMJa"
      },
      "source": [
        "Hospitals with type code 'a' and 'b' are densely populated with more number of patients. So at a particular instance the chance of admission into these type of hospitals is less as commpared to other ones due to less availability of extra beds."
      ]
    },
    {
      "cell_type": "code",
      "metadata": {
        "colab": {
          "base_uri": "https://localhost:8080/",
          "height": 280
        },
        "id": "fX2PnE2z3Hu8",
        "outputId": "f94d71aa-e040-4c4d-a329-e8c665e91d9f"
      },
      "source": [
        "sns.countplot(x='Hospital_type_code',data=df)\n",
        "plt.show()"
      ],
      "execution_count": 87,
      "outputs": [
        {
          "output_type": "display_data",
          "data": {
            "image/png": "[encoded data removed]",
            "text/plain": [
              "<Figure size 432x288 with 1 Axes>"
            ]
          },
          "metadata": {
            "needs_background": "light"
          }
        }
      ]
    },
    {
      "cell_type": "markdown",
      "metadata": {
        "id": "cpScvlpPKHsW"
      },
      "source": [
        "But extra available beds parameter does not matter, only the LOS parameter is considered because the primary concern is dynamic allocation of beds and resources"
      ]
    },
    {
      "cell_type": "code",
      "metadata": {
        "colab": {
          "base_uri": "https://localhost:8080/",
          "height": 422
        },
        "id": "gMAr-5UOOLa_",
        "outputId": "cea49e3c-a834-4d91-db7e-e5d015de9c32"
      },
      "source": [
        "pd.crosstab(columns=df['Hospital_type_code'],index=df['Decision'],normalize='columns')"
      ],
      "execution_count": 88,
      "outputs": [
        {
          "output_type": "execute_result",
          "data": {
            "text/html": [
              "<div>\n",
              "<style scoped>\n",
              "    .dataframe tbody tr th:only-of-type {\n",
              "        vertical-align: middle;\n",
              "    }\n",
              "\n",
              "    .dataframe tbody tr th {\n",
              "        vertical-align: top;\n",
              "    }\n",
              "\n",
              "    .dataframe thead th {\n",
              "        text-align: right;\n",
              "    }\n",
              "</style>\n",
              "<table border=\"1\" class=\"dataframe\">\n",
              "  <thead>\n",
              "    <tr style=\"text-align: right;\">\n",
              "      <th>Hospital_type_code</th>\n",
              "      <th>a</th>\n",
              "      <th>b</th>\n",
              "      <th>c</th>\n",
              "      <th>d</th>\n",
              "      <th>e</th>\n",
              "      <th>f</th>\n",
              "      <th>g</th>\n",
              "    </tr>\n",
              "    <tr>\n",
              "      <th>Decision</th>\n",
              "      <th></th>\n",
              "      <th></th>\n",
              "      <th></th>\n",
              "      <th></th>\n",
              "      <th></th>\n",
              "      <th></th>\n",
              "      <th></th>\n",
              "    </tr>\n",
              "  </thead>\n",
              "  <tbody>\n",
              "    <tr>\n",
              "      <th>0-10</th>\n",
              "      <td>0.073620</td>\n",
              "      <td>0.074624</td>\n",
              "      <td>0.078122</td>\n",
              "      <td>0.064447</td>\n",
              "      <td>0.072870</td>\n",
              "      <td>0.095581</td>\n",
              "      <td>0.039747</td>\n",
              "    </tr>\n",
              "    <tr>\n",
              "      <th>11-20</th>\n",
              "      <td>0.277546</td>\n",
              "      <td>0.202086</td>\n",
              "      <td>0.224656</td>\n",
              "      <td>0.216931</td>\n",
              "      <td>0.268228</td>\n",
              "      <td>0.217883</td>\n",
              "      <td>0.159458</td>\n",
              "    </tr>\n",
              "    <tr>\n",
              "      <th>21-30</th>\n",
              "      <td>0.280885</td>\n",
              "      <td>0.283425</td>\n",
              "      <td>0.272731</td>\n",
              "      <td>0.271078</td>\n",
              "      <td>0.263383</td>\n",
              "      <td>0.177240</td>\n",
              "      <td>0.278232</td>\n",
              "    </tr>\n",
              "    <tr>\n",
              "      <th>31-40</th>\n",
              "      <td>0.167154</td>\n",
              "      <td>0.179633</td>\n",
              "      <td>0.179019</td>\n",
              "      <td>0.181765</td>\n",
              "      <td>0.163908</td>\n",
              "      <td>0.195553</td>\n",
              "      <td>0.168108</td>\n",
              "    </tr>\n",
              "    <tr>\n",
              "      <th>41-50</th>\n",
              "      <td>0.028663</td>\n",
              "      <td>0.056464</td>\n",
              "      <td>0.040759</td>\n",
              "      <td>0.037275</td>\n",
              "      <td>0.030844</td>\n",
              "      <td>0.019060</td>\n",
              "      <td>0.032499</td>\n",
              "    </tr>\n",
              "    <tr>\n",
              "      <th>51-60</th>\n",
              "      <td>0.101914</td>\n",
              "      <td>0.100209</td>\n",
              "      <td>0.112698</td>\n",
              "      <td>0.133062</td>\n",
              "      <td>0.114332</td>\n",
              "      <td>0.183126</td>\n",
              "      <td>0.189619</td>\n",
              "    </tr>\n",
              "    <tr>\n",
              "      <th>61-70</th>\n",
              "      <td>0.006442</td>\n",
              "      <td>0.013300</td>\n",
              "      <td>0.009362</td>\n",
              "      <td>0.009123</td>\n",
              "      <td>0.007953</td>\n",
              "      <td>0.004111</td>\n",
              "      <td>0.010755</td>\n",
              "    </tr>\n",
              "    <tr>\n",
              "      <th>71-80</th>\n",
              "      <td>0.025951</td>\n",
              "      <td>0.037827</td>\n",
              "      <td>0.035077</td>\n",
              "      <td>0.037324</td>\n",
              "      <td>0.033266</td>\n",
              "      <td>0.045034</td>\n",
              "      <td>0.057517</td>\n",
              "    </tr>\n",
              "    <tr>\n",
              "      <th>81-90</th>\n",
              "      <td>0.013178</td>\n",
              "      <td>0.014881</td>\n",
              "      <td>0.015786</td>\n",
              "      <td>0.020648</td>\n",
              "      <td>0.015947</td>\n",
              "      <td>0.023732</td>\n",
              "      <td>0.029694</td>\n",
              "    </tr>\n",
              "    <tr>\n",
              "      <th>91-100</th>\n",
              "      <td>0.006707</td>\n",
              "      <td>0.011357</td>\n",
              "      <td>0.009558</td>\n",
              "      <td>0.008828</td>\n",
              "      <td>0.008801</td>\n",
              "      <td>0.012894</td>\n",
              "      <td>0.010521</td>\n",
              "    </tr>\n",
              "    <tr>\n",
              "      <th>More than 100 Days</th>\n",
              "      <td>0.017940</td>\n",
              "      <td>0.026194</td>\n",
              "      <td>0.022230</td>\n",
              "      <td>0.019520</td>\n",
              "      <td>0.020468</td>\n",
              "      <td>0.025787</td>\n",
              "      <td>0.023848</td>\n",
              "    </tr>\n",
              "  </tbody>\n",
              "</table>\n",
              "</div>"
            ],
            "text/plain": [
              "Hospital_type_code         a         b         c  ...         e         f         g\n",
              "Decision                                          ...                              \n",
              "0-10                0.073620  0.074624  0.078122  ...  0.072870  0.095581  0.039747\n",
              "11-20               0.277546  0.202086  0.224656  ...  0.268228  0.217883  0.159458\n",
              "21-30               0.280885  0.283425  0.272731  ...  0.263383  0.177240  0.278232\n",
              "31-40               0.167154  0.179633  0.179019  ...  0.163908  0.195553  0.168108\n",
              "41-50               0.028663  0.056464  0.040759  ...  0.030844  0.019060  0.032499\n",
              "51-60               0.101914  0.100209  0.112698  ...  0.114332  0.183126  0.189619\n",
              "61-70               0.006442  0.013300  0.009362  ...  0.007953  0.004111  0.010755\n",
              "71-80               0.025951  0.037827  0.035077  ...  0.033266  0.045034  0.057517\n",
              "81-90               0.013178  0.014881  0.015786  ...  0.015947  0.023732  0.029694\n",
              "91-100              0.006707  0.011357  0.009558  ...  0.008801  0.012894  0.010521\n",
              "More than 100 Days  0.017940  0.026194  0.022230  ...  0.020468  0.025787  0.023848\n",
              "\n",
              "[11 rows x 7 columns]"
            ]
          },
          "metadata": {},
          "execution_count": 88
        }
      ]
    },
    {
      "cell_type": "markdown",
      "metadata": {
        "id": "W5xjYn2gNJh-"
      },
      "source": [
        "Irrespective of the type of hospital most people haven a LOS within the categories 11-20, 21-30, 31-40 and 51-60  days."
      ]
    },
    {
      "cell_type": "code",
      "metadata": {
        "colab": {
          "base_uri": "https://localhost:8080/"
        },
        "id": "1PKkAtcKD-NS",
        "outputId": "3c67edef-5fdd-49a3-da7c-71f41fe8f53f"
      },
      "source": [
        "df['Department'].value_counts()"
      ],
      "execution_count": 89,
      "outputs": [
        {
          "output_type": "execute_result",
          "data": {
            "text/plain": [
              "gynecology            249486\n",
              "anesthesia             29649\n",
              "radiotherapy           28516\n",
              "TB & Chest disease      9586\n",
              "surgery                 1201\n",
              "Name: Department, dtype: int64"
            ]
          },
          "metadata": {},
          "execution_count": 89
        }
      ]
    },
    {
      "cell_type": "code",
      "metadata": {
        "colab": {
          "base_uri": "https://localhost:8080/",
          "height": 173
        },
        "id": "3Utx_TCmIFDy",
        "outputId": "6a2d8074-3ccd-4d91-cc65-17ff7198dac4"
      },
      "source": [
        "pd.crosstab(columns=df['Department'],index=df['Severity of Illness'],normalize='columns')"
      ],
      "execution_count": 90,
      "outputs": [
        {
          "output_type": "execute_result",
          "data": {
            "text/html": [
              "<div>\n",
              "<style scoped>\n",
              "    .dataframe tbody tr th:only-of-type {\n",
              "        vertical-align: middle;\n",
              "    }\n",
              "\n",
              "    .dataframe tbody tr th {\n",
              "        vertical-align: top;\n",
              "    }\n",
              "\n",
              "    .dataframe thead th {\n",
              "        text-align: right;\n",
              "    }\n",
              "</style>\n",
              "<table border=\"1\" class=\"dataframe\">\n",
              "  <thead>\n",
              "    <tr style=\"text-align: right;\">\n",
              "      <th>Department</th>\n",
              "      <th>TB &amp; Chest disease</th>\n",
              "      <th>anesthesia</th>\n",
              "      <th>gynecology</th>\n",
              "      <th>radiotherapy</th>\n",
              "      <th>surgery</th>\n",
              "    </tr>\n",
              "    <tr>\n",
              "      <th>Severity of Illness</th>\n",
              "      <th></th>\n",
              "      <th></th>\n",
              "      <th></th>\n",
              "      <th></th>\n",
              "      <th></th>\n",
              "    </tr>\n",
              "  </thead>\n",
              "  <tbody>\n",
              "    <tr>\n",
              "      <th>Extreme</th>\n",
              "      <td>0.187982</td>\n",
              "      <td>0.183919</td>\n",
              "      <td>0.174270</td>\n",
              "      <td>0.194628</td>\n",
              "      <td>0.366361</td>\n",
              "    </tr>\n",
              "    <tr>\n",
              "      <th>Minor</th>\n",
              "      <td>0.246088</td>\n",
              "      <td>0.239974</td>\n",
              "      <td>0.278597</td>\n",
              "      <td>0.238252</td>\n",
              "      <td>0.081599</td>\n",
              "    </tr>\n",
              "    <tr>\n",
              "      <th>Moderate</th>\n",
              "      <td>0.565929</td>\n",
              "      <td>0.576107</td>\n",
              "      <td>0.547133</td>\n",
              "      <td>0.567120</td>\n",
              "      <td>0.552040</td>\n",
              "    </tr>\n",
              "  </tbody>\n",
              "</table>\n",
              "</div>"
            ],
            "text/plain": [
              "Department           TB & Chest disease  anesthesia  ...  radiotherapy   surgery\n",
              "Severity of Illness                                  ...                        \n",
              "Extreme                        0.187982    0.183919  ...      0.194628  0.366361\n",
              "Minor                          0.246088    0.239974  ...      0.238252  0.081599\n",
              "Moderate                       0.565929    0.576107  ...      0.567120  0.552040\n",
              "\n",
              "[3 rows x 5 columns]"
            ]
          },
          "metadata": {},
          "execution_count": 90
        }
      ]
    },
    {
      "cell_type": "markdown",
      "metadata": {
        "id": "Kxn4CswZhxKu"
      },
      "source": [
        "In almost all the departments the a large percentage of the cases are of moderate severity followed by minor and extreme."
      ]
    },
    {
      "cell_type": "code",
      "metadata": {
        "colab": {
          "base_uri": "https://localhost:8080/",
          "height": 422
        },
        "id": "xix5WaNGbPjP",
        "outputId": "7aa2dc81-e16f-4834-e9bf-2c0a6415e4f8"
      },
      "source": [
        "pd.crosstab(columns=df['Department'],index=df['Decision'],normalize='columns')"
      ],
      "execution_count": 91,
      "outputs": [
        {
          "output_type": "execute_result",
          "data": {
            "text/html": [
              "<div>\n",
              "<style scoped>\n",
              "    .dataframe tbody tr th:only-of-type {\n",
              "        vertical-align: middle;\n",
              "    }\n",
              "\n",
              "    .dataframe tbody tr th {\n",
              "        vertical-align: top;\n",
              "    }\n",
              "\n",
              "    .dataframe thead th {\n",
              "        text-align: right;\n",
              "    }\n",
              "</style>\n",
              "<table border=\"1\" class=\"dataframe\">\n",
              "  <thead>\n",
              "    <tr style=\"text-align: right;\">\n",
              "      <th>Department</th>\n",
              "      <th>TB &amp; Chest disease</th>\n",
              "      <th>anesthesia</th>\n",
              "      <th>gynecology</th>\n",
              "      <th>radiotherapy</th>\n",
              "      <th>surgery</th>\n",
              "    </tr>\n",
              "    <tr>\n",
              "      <th>Decision</th>\n",
              "      <th></th>\n",
              "      <th></th>\n",
              "      <th></th>\n",
              "      <th></th>\n",
              "      <th></th>\n",
              "    </tr>\n",
              "  </thead>\n",
              "  <tbody>\n",
              "    <tr>\n",
              "      <th>0-10</th>\n",
              "      <td>0.082516</td>\n",
              "      <td>0.051233</td>\n",
              "      <td>0.075551</td>\n",
              "      <td>0.083427</td>\n",
              "      <td>0.054954</td>\n",
              "    </tr>\n",
              "    <tr>\n",
              "      <th>11-20</th>\n",
              "      <td>0.248174</td>\n",
              "      <td>0.297582</td>\n",
              "      <td>0.239252</td>\n",
              "      <td>0.245055</td>\n",
              "      <td>0.215654</td>\n",
              "    </tr>\n",
              "    <tr>\n",
              "      <th>21-30</th>\n",
              "      <td>0.273107</td>\n",
              "      <td>0.301865</td>\n",
              "      <td>0.274096</td>\n",
              "      <td>0.254699</td>\n",
              "      <td>0.230641</td>\n",
              "    </tr>\n",
              "    <tr>\n",
              "      <th>31-40</th>\n",
              "      <td>0.182871</td>\n",
              "      <td>0.167223</td>\n",
              "      <td>0.174499</td>\n",
              "      <td>0.165276</td>\n",
              "      <td>0.166528</td>\n",
              "    </tr>\n",
              "    <tr>\n",
              "      <th>41-50</th>\n",
              "      <td>0.031296</td>\n",
              "      <td>0.028702</td>\n",
              "      <td>0.038764</td>\n",
              "      <td>0.030825</td>\n",
              "      <td>0.034971</td>\n",
              "    </tr>\n",
              "    <tr>\n",
              "      <th>51-60</th>\n",
              "      <td>0.109222</td>\n",
              "      <td>0.085231</td>\n",
              "      <td>0.112187</td>\n",
              "      <td>0.114182</td>\n",
              "      <td>0.165695</td>\n",
              "    </tr>\n",
              "    <tr>\n",
              "      <th>61-70</th>\n",
              "      <td>0.007928</td>\n",
              "      <td>0.005835</td>\n",
              "      <td>0.008922</td>\n",
              "      <td>0.009258</td>\n",
              "      <td>0.004163</td>\n",
              "    </tr>\n",
              "    <tr>\n",
              "      <th>71-80</th>\n",
              "      <td>0.030670</td>\n",
              "      <td>0.023711</td>\n",
              "      <td>0.032727</td>\n",
              "      <td>0.036576</td>\n",
              "      <td>0.040799</td>\n",
              "    </tr>\n",
              "    <tr>\n",
              "      <th>81-90</th>\n",
              "      <td>0.014605</td>\n",
              "      <td>0.012952</td>\n",
              "      <td>0.015023</td>\n",
              "      <td>0.018516</td>\n",
              "      <td>0.031640</td>\n",
              "    </tr>\n",
              "    <tr>\n",
              "      <th>91-100</th>\n",
              "      <td>0.006676</td>\n",
              "      <td>0.005262</td>\n",
              "      <td>0.009095</td>\n",
              "      <td>0.008977</td>\n",
              "      <td>0.016653</td>\n",
              "    </tr>\n",
              "    <tr>\n",
              "      <th>More than 100 Days</th>\n",
              "      <td>0.012936</td>\n",
              "      <td>0.020405</td>\n",
              "      <td>0.019885</td>\n",
              "      <td>0.033209</td>\n",
              "      <td>0.038301</td>\n",
              "    </tr>\n",
              "  </tbody>\n",
              "</table>\n",
              "</div>"
            ],
            "text/plain": [
              "Department          TB & Chest disease  anesthesia  ...  radiotherapy   surgery\n",
              "Decision                                            ...                        \n",
              "0-10                          0.082516    0.051233  ...      0.083427  0.054954\n",
              "11-20                         0.248174    0.297582  ...      0.245055  0.215654\n",
              "21-30                         0.273107    0.301865  ...      0.254699  0.230641\n",
              "31-40                         0.182871    0.167223  ...      0.165276  0.166528\n",
              "41-50                         0.031296    0.028702  ...      0.030825  0.034971\n",
              "51-60                         0.109222    0.085231  ...      0.114182  0.165695\n",
              "61-70                         0.007928    0.005835  ...      0.009258  0.004163\n",
              "71-80                         0.030670    0.023711  ...      0.036576  0.040799\n",
              "81-90                         0.014605    0.012952  ...      0.018516  0.031640\n",
              "91-100                        0.006676    0.005262  ...      0.008977  0.016653\n",
              "More than 100 Days            0.012936    0.020405  ...      0.033209  0.038301\n",
              "\n",
              "[11 rows x 5 columns]"
            ]
          },
          "metadata": {},
          "execution_count": 91
        }
      ]
    },
    {
      "cell_type": "markdown",
      "metadata": {
        "id": "aa7LyrsSjnWX"
      },
      "source": [
        "Again in every department a large percentage of people have a length of stay between 21-30 days."
      ]
    },
    {
      "cell_type": "code",
      "metadata": {
        "colab": {
          "base_uri": "https://localhost:8080/",
          "height": 207
        },
        "id": "RsgY-rhIeNe-",
        "outputId": "318a5b3b-b40a-4c64-c433-3e932cca87c2"
      },
      "source": [
        "pd.crosstab(columns=df['Decision'],index=df['Severity of Illness'],normalize='index')"
      ],
      "execution_count": 92,
      "outputs": [
        {
          "output_type": "execute_result",
          "data": {
            "text/html": [
              "<div>\n",
              "<style scoped>\n",
              "    .dataframe tbody tr th:only-of-type {\n",
              "        vertical-align: middle;\n",
              "    }\n",
              "\n",
              "    .dataframe tbody tr th {\n",
              "        vertical-align: top;\n",
              "    }\n",
              "\n",
              "    .dataframe thead th {\n",
              "        text-align: right;\n",
              "    }\n",
              "</style>\n",
              "<table border=\"1\" class=\"dataframe\">\n",
              "  <thead>\n",
              "    <tr style=\"text-align: right;\">\n",
              "      <th>Decision</th>\n",
              "      <th>0-10</th>\n",
              "      <th>11-20</th>\n",
              "      <th>21-30</th>\n",
              "      <th>31-40</th>\n",
              "      <th>41-50</th>\n",
              "      <th>51-60</th>\n",
              "      <th>61-70</th>\n",
              "      <th>71-80</th>\n",
              "      <th>81-90</th>\n",
              "      <th>91-100</th>\n",
              "      <th>More than 100 Days</th>\n",
              "    </tr>\n",
              "    <tr>\n",
              "      <th>Severity of Illness</th>\n",
              "      <th></th>\n",
              "      <th></th>\n",
              "      <th></th>\n",
              "      <th></th>\n",
              "      <th></th>\n",
              "      <th></th>\n",
              "      <th></th>\n",
              "      <th></th>\n",
              "      <th></th>\n",
              "      <th></th>\n",
              "      <th></th>\n",
              "    </tr>\n",
              "  </thead>\n",
              "  <tbody>\n",
              "    <tr>\n",
              "      <th>Extreme</th>\n",
              "      <td>0.059923</td>\n",
              "      <td>0.185427</td>\n",
              "      <td>0.273293</td>\n",
              "      <td>0.177811</td>\n",
              "      <td>0.041447</td>\n",
              "      <td>0.137105</td>\n",
              "      <td>0.011406</td>\n",
              "      <td>0.045396</td>\n",
              "      <td>0.019622</td>\n",
              "      <td>0.014192</td>\n",
              "      <td>0.034378</td>\n",
              "    </tr>\n",
              "    <tr>\n",
              "      <th>Minor</th>\n",
              "      <td>0.091601</td>\n",
              "      <td>0.315365</td>\n",
              "      <td>0.250780</td>\n",
              "      <td>0.168239</td>\n",
              "      <td>0.034936</td>\n",
              "      <td>0.083007</td>\n",
              "      <td>0.006044</td>\n",
              "      <td>0.022452</td>\n",
              "      <td>0.011471</td>\n",
              "      <td>0.004949</td>\n",
              "      <td>0.011156</td>\n",
              "    </tr>\n",
              "    <tr>\n",
              "      <th>Moderate</th>\n",
              "      <td>0.070171</td>\n",
              "      <td>0.230547</td>\n",
              "      <td>0.286926</td>\n",
              "      <td>0.174167</td>\n",
              "      <td>0.036351</td>\n",
              "      <td>0.114380</td>\n",
              "      <td>0.008974</td>\n",
              "      <td>0.032705</td>\n",
              "      <td>0.015582</td>\n",
              "      <td>0.008729</td>\n",
              "      <td>0.021468</td>\n",
              "    </tr>\n",
              "  </tbody>\n",
              "</table>\n",
              "</div>"
            ],
            "text/plain": [
              "Decision                 0-10     11-20  ...    91-100  More than 100 Days\n",
              "Severity of Illness                      ...                              \n",
              "Extreme              0.059923  0.185427  ...  0.014192            0.034378\n",
              "Minor                0.091601  0.315365  ...  0.004949            0.011156\n",
              "Moderate             0.070171  0.230547  ...  0.008729            0.021468\n",
              "\n",
              "[3 rows x 11 columns]"
            ]
          },
          "metadata": {},
          "execution_count": 92
        }
      ]
    },
    {
      "cell_type": "code",
      "metadata": {
        "colab": {
          "base_uri": "https://localhost:8080/",
          "height": 408
        },
        "id": "CAvvUByOn9Bg",
        "outputId": "bad1d1d9-77dd-4ee3-ca27-2f2e61f282d8"
      },
      "source": [
        "pd.crosstab(columns=df['Decision'],index=df['Age'],normalize='columns')"
      ],
      "execution_count": 93,
      "outputs": [
        {
          "output_type": "execute_result",
          "data": {
            "text/html": [
              "<div>\n",
              "<style scoped>\n",
              "    .dataframe tbody tr th:only-of-type {\n",
              "        vertical-align: middle;\n",
              "    }\n",
              "\n",
              "    .dataframe tbody tr th {\n",
              "        vertical-align: top;\n",
              "    }\n",
              "\n",
              "    .dataframe thead th {\n",
              "        text-align: right;\n",
              "    }\n",
              "</style>\n",
              "<table border=\"1\" class=\"dataframe\">\n",
              "  <thead>\n",
              "    <tr style=\"text-align: right;\">\n",
              "      <th>Decision</th>\n",
              "      <th>0-10</th>\n",
              "      <th>11-20</th>\n",
              "      <th>21-30</th>\n",
              "      <th>31-40</th>\n",
              "      <th>41-50</th>\n",
              "      <th>51-60</th>\n",
              "      <th>61-70</th>\n",
              "      <th>71-80</th>\n",
              "      <th>81-90</th>\n",
              "      <th>91-100</th>\n",
              "      <th>More than 100 Days</th>\n",
              "    </tr>\n",
              "    <tr>\n",
              "      <th>Age</th>\n",
              "      <th></th>\n",
              "      <th></th>\n",
              "      <th></th>\n",
              "      <th></th>\n",
              "      <th></th>\n",
              "      <th></th>\n",
              "      <th></th>\n",
              "      <th></th>\n",
              "      <th></th>\n",
              "      <th></th>\n",
              "      <th></th>\n",
              "    </tr>\n",
              "  </thead>\n",
              "  <tbody>\n",
              "    <tr>\n",
              "      <th>0-10</th>\n",
              "      <td>0.026055</td>\n",
              "      <td>0.025071</td>\n",
              "      <td>0.017019</td>\n",
              "      <td>0.018383</td>\n",
              "      <td>0.015924</td>\n",
              "      <td>0.016620</td>\n",
              "      <td>0.009475</td>\n",
              "      <td>0.014921</td>\n",
              "      <td>0.017363</td>\n",
              "      <td>0.012658</td>\n",
              "      <td>0.016460</td>\n",
              "    </tr>\n",
              "    <tr>\n",
              "      <th>11-20</th>\n",
              "      <td>0.065752</td>\n",
              "      <td>0.068378</td>\n",
              "      <td>0.049285</td>\n",
              "      <td>0.048605</td>\n",
              "      <td>0.043430</td>\n",
              "      <td>0.040808</td>\n",
              "      <td>0.032434</td>\n",
              "      <td>0.034133</td>\n",
              "      <td>0.046093</td>\n",
              "      <td>0.025678</td>\n",
              "      <td>0.031124</td>\n",
              "    </tr>\n",
              "    <tr>\n",
              "      <th>21-30</th>\n",
              "      <td>0.146882</td>\n",
              "      <td>0.144256</td>\n",
              "      <td>0.130231</td>\n",
              "      <td>0.125310</td>\n",
              "      <td>0.119050</td>\n",
              "      <td>0.108316</td>\n",
              "      <td>0.095845</td>\n",
              "      <td>0.100059</td>\n",
              "      <td>0.112857</td>\n",
              "      <td>0.083544</td>\n",
              "      <td>0.080952</td>\n",
              "    </tr>\n",
              "    <tr>\n",
              "      <th>31-40</th>\n",
              "      <td>0.208270</td>\n",
              "      <td>0.202101</td>\n",
              "      <td>0.212022</td>\n",
              "      <td>0.197828</td>\n",
              "      <td>0.202078</td>\n",
              "      <td>0.186104</td>\n",
              "      <td>0.185496</td>\n",
              "      <td>0.176224</td>\n",
              "      <td>0.165564</td>\n",
              "      <td>0.175045</td>\n",
              "      <td>0.146341</td>\n",
              "    </tr>\n",
              "    <tr>\n",
              "      <th>41-50</th>\n",
              "      <td>0.200263</td>\n",
              "      <td>0.191441</td>\n",
              "      <td>0.204661</td>\n",
              "      <td>0.199115</td>\n",
              "      <td>0.213489</td>\n",
              "      <td>0.205294</td>\n",
              "      <td>0.204810</td>\n",
              "      <td>0.209284</td>\n",
              "      <td>0.182927</td>\n",
              "      <td>0.209042</td>\n",
              "      <td>0.195571</td>\n",
              "    </tr>\n",
              "    <tr>\n",
              "      <th>51-60</th>\n",
              "      <td>0.145187</td>\n",
              "      <td>0.145203</td>\n",
              "      <td>0.149250</td>\n",
              "      <td>0.155351</td>\n",
              "      <td>0.147748</td>\n",
              "      <td>0.163887</td>\n",
              "      <td>0.163265</td>\n",
              "      <td>0.166764</td>\n",
              "      <td>0.162050</td>\n",
              "      <td>0.180470</td>\n",
              "      <td>0.179410</td>\n",
              "    </tr>\n",
              "    <tr>\n",
              "      <th>61-70</th>\n",
              "      <td>0.092950</td>\n",
              "      <td>0.100718</td>\n",
              "      <td>0.103245</td>\n",
              "      <td>0.107507</td>\n",
              "      <td>0.102614</td>\n",
              "      <td>0.116540</td>\n",
              "      <td>0.118440</td>\n",
              "      <td>0.119953</td>\n",
              "      <td>0.124018</td>\n",
              "      <td>0.119349</td>\n",
              "      <td>0.133024</td>\n",
              "    </tr>\n",
              "    <tr>\n",
              "      <th>71-80</th>\n",
              "      <td>0.093247</td>\n",
              "      <td>0.101844</td>\n",
              "      <td>0.108971</td>\n",
              "      <td>0.116391</td>\n",
              "      <td>0.117772</td>\n",
              "      <td>0.126592</td>\n",
              "      <td>0.137755</td>\n",
              "      <td>0.133314</td>\n",
              "      <td>0.138487</td>\n",
              "      <td>0.139602</td>\n",
              "      <td>0.158911</td>\n",
              "    </tr>\n",
              "    <tr>\n",
              "      <th>81-90</th>\n",
              "      <td>0.017878</td>\n",
              "      <td>0.017814</td>\n",
              "      <td>0.021945</td>\n",
              "      <td>0.027267</td>\n",
              "      <td>0.032275</td>\n",
              "      <td>0.030898</td>\n",
              "      <td>0.041910</td>\n",
              "      <td>0.039204</td>\n",
              "      <td>0.044647</td>\n",
              "      <td>0.047740</td>\n",
              "      <td>0.048780</td>\n",
              "    </tr>\n",
              "    <tr>\n",
              "      <th>91-100</th>\n",
              "      <td>0.003516</td>\n",
              "      <td>0.003174</td>\n",
              "      <td>0.003372</td>\n",
              "      <td>0.004242</td>\n",
              "      <td>0.005620</td>\n",
              "      <td>0.004940</td>\n",
              "      <td>0.010569</td>\n",
              "      <td>0.006144</td>\n",
              "      <td>0.005994</td>\n",
              "      <td>0.006872</td>\n",
              "      <td>0.009427</td>\n",
              "    </tr>\n",
              "  </tbody>\n",
              "</table>\n",
              "</div>"
            ],
            "text/plain": [
              "Decision      0-10     11-20     21-30  ...     81-90    91-100  More than 100 Days\n",
              "Age                                     ...                                        \n",
              "0-10      0.026055  0.025071  0.017019  ...  0.017363  0.012658            0.016460\n",
              "11-20     0.065752  0.068378  0.049285  ...  0.046093  0.025678            0.031124\n",
              "21-30     0.146882  0.144256  0.130231  ...  0.112857  0.083544            0.080952\n",
              "31-40     0.208270  0.202101  0.212022  ...  0.165564  0.175045            0.146341\n",
              "41-50     0.200263  0.191441  0.204661  ...  0.182927  0.209042            0.195571\n",
              "51-60     0.145187  0.145203  0.149250  ...  0.162050  0.180470            0.179410\n",
              "61-70     0.092950  0.100718  0.103245  ...  0.124018  0.119349            0.133024\n",
              "71-80     0.093247  0.101844  0.108971  ...  0.138487  0.139602            0.158911\n",
              "81-90     0.017878  0.017814  0.021945  ...  0.044647  0.047740            0.048780\n",
              "91-100    0.003516  0.003174  0.003372  ...  0.005994  0.006872            0.009427\n",
              "\n",
              "[10 rows x 11 columns]"
            ]
          },
          "metadata": {},
          "execution_count": 93
        }
      ]
    },
    {
      "cell_type": "markdown",
      "metadata": {
        "id": "xiAQ4sJvtybE"
      },
      "source": [
        "**Feature Engineering**"
      ]
    },
    {
      "cell_type": "code",
      "metadata": {
        "id": "qVB7Pcb8gowW"
      },
      "source": [
        "df1=pd.get_dummies(data=df,columns=['Hospital_type_code','Department','Type of Admission','Severity of Illness','Age'],drop_first=True)"
      ],
      "execution_count": 94,
      "outputs": []
    },
    {
      "cell_type": "code",
      "metadata": {
        "id": "sm8xHLapkeY0"
      },
      "source": [
        "label_decision=preprocessing.LabelEncoder()"
      ],
      "execution_count": 95,
      "outputs": []
    },
    {
      "cell_type": "code",
      "metadata": {
        "id": "DGxtX-v4m-tq"
      },
      "source": [
        "df1['Decision']=label_decision.fit_transform(df1['Decision'])"
      ],
      "execution_count": 96,
      "outputs": []
    },
    {
      "cell_type": "code",
      "metadata": {
        "id": "-b56Yc0EGCYo"
      },
      "source": [
        "x=df1.drop(columns='Decision',axis=1)"
      ],
      "execution_count": 97,
      "outputs": []
    },
    {
      "cell_type": "code",
      "metadata": {
        "colab": {
          "base_uri": "https://localhost:8080/"
        },
        "id": "BZZBAJ2FG6Ep",
        "outputId": "e24153d4-0a16-4ae5-b69e-00de2eb9c933"
      },
      "source": [
        "y=df1['Decision']\n",
        "y.head(7)"
      ],
      "execution_count": 98,
      "outputs": [
        {
          "output_type": "execute_result",
          "data": {
            "text/plain": [
              "0    0\n",
              "1    4\n",
              "2    3\n",
              "3    4\n",
              "4    4\n",
              "5    1\n",
              "6    0\n",
              "Name: Decision, dtype: int64"
            ]
          },
          "metadata": {},
          "execution_count": 98
        }
      ]
    },
    {
      "cell_type": "code",
      "metadata": {
        "colab": {
          "base_uri": "https://localhost:8080/"
        },
        "id": "Oh8t-r3yGWqg",
        "outputId": "10fe8126-348e-49cd-c36a-49126f3ecb0f"
      },
      "source": [
        "x.info()"
      ],
      "execution_count": 99,
      "outputs": [
        {
          "output_type": "stream",
          "name": "stdout",
          "text": [
            "<class 'pandas.core.frame.DataFrame'>\n",
            "RangeIndex: 318438 entries, 0 to 318437\n",
            "Data columns (total 27 columns):\n",
            " #   Column                             Non-Null Count   Dtype  \n",
            "---  ------                             --------------   -----  \n",
            " 0   case_id                            318438 non-null  int64  \n",
            " 1   Available Extra Rooms in Hospital  318438 non-null  int64  \n",
            " 2   Bed Grade                          318438 non-null  float64\n",
            " 3   patientid                          318438 non-null  int64  \n",
            " 4   Hospital_type_code_b               318438 non-null  uint8  \n",
            " 5   Hospital_type_code_c               318438 non-null  uint8  \n",
            " 6   Hospital_type_code_d               318438 non-null  uint8  \n",
            " 7   Hospital_type_code_e               318438 non-null  uint8  \n",
            " 8   Hospital_type_code_f               318438 non-null  uint8  \n",
            " 9   Hospital_type_code_g               318438 non-null  uint8  \n",
            " 10  Department_anesthesia              318438 non-null  uint8  \n",
            " 11  Department_gynecology              318438 non-null  uint8  \n",
            " 12  Department_radiotherapy            318438 non-null  uint8  \n",
            " 13  Department_surgery                 318438 non-null  uint8  \n",
            " 14  Type of Admission_Trauma           318438 non-null  uint8  \n",
            " 15  Type of Admission_Urgent           318438 non-null  uint8  \n",
            " 16  Severity of Illness_Minor          318438 non-null  uint8  \n",
            " 17  Severity of Illness_Moderate       318438 non-null  uint8  \n",
            " 18  Age_11-20                          318438 non-null  uint8  \n",
            " 19  Age_21-30                          318438 non-null  uint8  \n",
            " 20  Age_31-40                          318438 non-null  uint8  \n",
            " 21  Age_41-50                          318438 non-null  uint8  \n",
            " 22  Age_51-60                          318438 non-null  uint8  \n",
            " 23  Age_61-70                          318438 non-null  uint8  \n",
            " 24  Age_71-80                          318438 non-null  uint8  \n",
            " 25  Age_81-90                          318438 non-null  uint8  \n",
            " 26  Age_91-100                         318438 non-null  uint8  \n",
            "dtypes: float64(1), int64(3), uint8(23)\n",
            "memory usage: 16.7 MB\n"
          ]
        }
      ]
    },
    {
      "cell_type": "markdown",
      "metadata": {
        "id": "Kbds5atSuhWi"
      },
      "source": [
        "**Modelling**"
      ]
    },
    {
      "cell_type": "code",
      "metadata": {
        "id": "hzo9pUb9n2TK"
      },
      "source": [
        "x_train,x_val,y_train,y_val=train_test_split(x,y,test_size=0.2,random_state=44,stratify=df1['Decision'])"
      ],
      "execution_count": 127,
      "outputs": []
    },
    {
      "cell_type": "code",
      "metadata": {
        "id": "k1fA_LlZCJbu"
      },
      "source": [
        "decision_tree = DecisionTreeClassifier(random_state=44,max_depth=5,criterion='entropy')\n",
        "decision_tree.fit(x_train, y_train)\n",
        "y_pred = decision_tree.predict(x_val)"
      ],
      "execution_count": 130,
      "outputs": []
    },
    {
      "cell_type": "code",
      "metadata": {
        "colab": {
          "base_uri": "https://localhost:8080/"
        },
        "id": "pJ6fty59lCZW",
        "outputId": "743d2891-1c0b-4a7a-a9d2-a3bec846ac16"
      },
      "source": [
        "metrics.accuracy_score(y_val, y_pred)"
      ],
      "execution_count": 134,
      "outputs": [
        {
          "output_type": "execute_result",
          "data": {
            "text/plain": [
              "0.30478269061675667"
            ]
          },
          "metadata": {},
          "execution_count": 134
        }
      ]
    },
    {
      "cell_type": "markdown",
      "metadata": {
        "id": "W9JMchSiulLh"
      },
      "source": [
        "**Feature Importance**"
      ]
    },
    {
      "cell_type": "code",
      "metadata": {
        "colab": {
          "base_uri": "https://localhost:8080/",
          "height": 888
        },
        "id": "jBTo2yWGiLre",
        "outputId": "1f0a845c-dd1b-4239-e39d-24f15fbc7ce4"
      },
      "source": [
        "importance = pd.DataFrame({'feature': x_train.columns, 'importance' : np.round(decision_tree.feature_importances_, 3)})\n",
        "importance.sort_values('importance', ascending=False, inplace = True)\n",
        "importance"
      ],
      "execution_count": 135,
      "outputs": [
        {
          "output_type": "execute_result",
          "data": {
            "text/html": [
              "<div>\n",
              "<style scoped>\n",
              "    .dataframe tbody tr th:only-of-type {\n",
              "        vertical-align: middle;\n",
              "    }\n",
              "\n",
              "    .dataframe tbody tr th {\n",
              "        vertical-align: top;\n",
              "    }\n",
              "\n",
              "    .dataframe thead th {\n",
              "        text-align: right;\n",
              "    }\n",
              "</style>\n",
              "<table border=\"1\" class=\"dataframe\">\n",
              "  <thead>\n",
              "    <tr style=\"text-align: right;\">\n",
              "      <th></th>\n",
              "      <th>feature</th>\n",
              "      <th>importance</th>\n",
              "    </tr>\n",
              "  </thead>\n",
              "  <tbody>\n",
              "    <tr>\n",
              "      <th>14</th>\n",
              "      <td>Type of Admission_Trauma</td>\n",
              "      <td>0.255</td>\n",
              "    </tr>\n",
              "    <tr>\n",
              "      <th>2</th>\n",
              "      <td>Bed Grade</td>\n",
              "      <td>0.252</td>\n",
              "    </tr>\n",
              "    <tr>\n",
              "      <th>1</th>\n",
              "      <td>Available Extra Rooms in Hospital</td>\n",
              "      <td>0.239</td>\n",
              "    </tr>\n",
              "    <tr>\n",
              "      <th>16</th>\n",
              "      <td>Severity of Illness_Minor</td>\n",
              "      <td>0.154</td>\n",
              "    </tr>\n",
              "    <tr>\n",
              "      <th>4</th>\n",
              "      <td>Hospital_type_code_b</td>\n",
              "      <td>0.047</td>\n",
              "    </tr>\n",
              "    <tr>\n",
              "      <th>15</th>\n",
              "      <td>Type of Admission_Urgent</td>\n",
              "      <td>0.020</td>\n",
              "    </tr>\n",
              "    <tr>\n",
              "      <th>10</th>\n",
              "      <td>Department_anesthesia</td>\n",
              "      <td>0.017</td>\n",
              "    </tr>\n",
              "    <tr>\n",
              "      <th>0</th>\n",
              "      <td>case_id</td>\n",
              "      <td>0.008</td>\n",
              "    </tr>\n",
              "    <tr>\n",
              "      <th>11</th>\n",
              "      <td>Department_gynecology</td>\n",
              "      <td>0.006</td>\n",
              "    </tr>\n",
              "    <tr>\n",
              "      <th>18</th>\n",
              "      <td>Age_11-20</td>\n",
              "      <td>0.000</td>\n",
              "    </tr>\n",
              "    <tr>\n",
              "      <th>20</th>\n",
              "      <td>Age_31-40</td>\n",
              "      <td>0.000</td>\n",
              "    </tr>\n",
              "    <tr>\n",
              "      <th>22</th>\n",
              "      <td>Age_51-60</td>\n",
              "      <td>0.000</td>\n",
              "    </tr>\n",
              "    <tr>\n",
              "      <th>19</th>\n",
              "      <td>Age_21-30</td>\n",
              "      <td>0.000</td>\n",
              "    </tr>\n",
              "    <tr>\n",
              "      <th>23</th>\n",
              "      <td>Age_61-70</td>\n",
              "      <td>0.000</td>\n",
              "    </tr>\n",
              "    <tr>\n",
              "      <th>24</th>\n",
              "      <td>Age_71-80</td>\n",
              "      <td>0.000</td>\n",
              "    </tr>\n",
              "    <tr>\n",
              "      <th>25</th>\n",
              "      <td>Age_81-90</td>\n",
              "      <td>0.000</td>\n",
              "    </tr>\n",
              "    <tr>\n",
              "      <th>21</th>\n",
              "      <td>Age_41-50</td>\n",
              "      <td>0.000</td>\n",
              "    </tr>\n",
              "    <tr>\n",
              "      <th>13</th>\n",
              "      <td>Department_surgery</td>\n",
              "      <td>0.000</td>\n",
              "    </tr>\n",
              "    <tr>\n",
              "      <th>17</th>\n",
              "      <td>Severity of Illness_Moderate</td>\n",
              "      <td>0.000</td>\n",
              "    </tr>\n",
              "    <tr>\n",
              "      <th>12</th>\n",
              "      <td>Department_radiotherapy</td>\n",
              "      <td>0.000</td>\n",
              "    </tr>\n",
              "    <tr>\n",
              "      <th>9</th>\n",
              "      <td>Hospital_type_code_g</td>\n",
              "      <td>0.000</td>\n",
              "    </tr>\n",
              "    <tr>\n",
              "      <th>8</th>\n",
              "      <td>Hospital_type_code_f</td>\n",
              "      <td>0.000</td>\n",
              "    </tr>\n",
              "    <tr>\n",
              "      <th>7</th>\n",
              "      <td>Hospital_type_code_e</td>\n",
              "      <td>0.000</td>\n",
              "    </tr>\n",
              "    <tr>\n",
              "      <th>6</th>\n",
              "      <td>Hospital_type_code_d</td>\n",
              "      <td>0.000</td>\n",
              "    </tr>\n",
              "    <tr>\n",
              "      <th>5</th>\n",
              "      <td>Hospital_type_code_c</td>\n",
              "      <td>0.000</td>\n",
              "    </tr>\n",
              "    <tr>\n",
              "      <th>3</th>\n",
              "      <td>patientid</td>\n",
              "      <td>0.000</td>\n",
              "    </tr>\n",
              "    <tr>\n",
              "      <th>26</th>\n",
              "      <td>Age_91-100</td>\n",
              "      <td>0.000</td>\n",
              "    </tr>\n",
              "  </tbody>\n",
              "</table>\n",
              "</div>"
            ],
            "text/plain": [
              "                              feature  importance\n",
              "14           Type of Admission_Trauma       0.255\n",
              "2                           Bed Grade       0.252\n",
              "1   Available Extra Rooms in Hospital       0.239\n",
              "16          Severity of Illness_Minor       0.154\n",
              "4                Hospital_type_code_b       0.047\n",
              "15           Type of Admission_Urgent       0.020\n",
              "10              Department_anesthesia       0.017\n",
              "0                             case_id       0.008\n",
              "11              Department_gynecology       0.006\n",
              "18                          Age_11-20       0.000\n",
              "20                          Age_31-40       0.000\n",
              "22                          Age_51-60       0.000\n",
              "19                          Age_21-30       0.000\n",
              "23                          Age_61-70       0.000\n",
              "24                          Age_71-80       0.000\n",
              "25                          Age_81-90       0.000\n",
              "21                          Age_41-50       0.000\n",
              "13                 Department_surgery       0.000\n",
              "17       Severity of Illness_Moderate       0.000\n",
              "12            Department_radiotherapy       0.000\n",
              "9                Hospital_type_code_g       0.000\n",
              "8                Hospital_type_code_f       0.000\n",
              "7                Hospital_type_code_e       0.000\n",
              "6                Hospital_type_code_d       0.000\n",
              "5                Hospital_type_code_c       0.000\n",
              "3                           patientid       0.000\n",
              "26                         Age_91-100       0.000"
            ]
          },
          "metadata": {},
          "execution_count": 135
        }
      ]
    },
    {
      "cell_type": "markdown",
      "metadata": {
        "id": "maTRiKx7uqxG"
      },
      "source": [
        "**Finding the optimal depth of the tree**"
      ]
    },
    {
      "cell_type": "code",
      "metadata": {
        "id": "PlhL4hFEMVJL"
      },
      "source": [
        "max_depth_range = list(range(1, 15))\n",
        "accuracy = []\n",
        "for depth in max_depth_range:\n",
        "    \n",
        "    clf = DecisionTreeClassifier(max_depth = depth, \n",
        "                             random_state = 0,criterion='entropy')\n",
        "    clf.fit(x_train, y_train)\n",
        "    y_pred = decision_tree.predict(x_val)\n",
        "    score = metrics.accuracy_score(y_val, y_pred)\n",
        "    accuracy.append(score)"
      ],
      "execution_count": 136,
      "outputs": []
    },
    {
      "cell_type": "code",
      "metadata": {
        "colab": {
          "base_uri": "https://localhost:8080/",
          "height": 265
        },
        "id": "yhRMk2i9PqMO",
        "outputId": "d3c82fbe-72cb-4703-d7a3-0217863feb8f"
      },
      "source": [
        "sns.lineplot(x=max_depth_range,y=accuracy,markers='o',dashes=True)\n",
        "plt.show()"
      ],
      "execution_count": 137,
      "outputs": [
        {
          "output_type": "display_data",
          "data": {
            "image/png": "[encoded data removed]",
            "text/plain": [
              "<Figure size 432x288 with 1 Axes>"
            ]
          },
          "metadata": {
            "needs_background": "light"
          }
        }
      ]
    },
    {
      "cell_type": "markdown",
      "metadata": {
        "id": "TIruYO3Cm4Sg"
      },
      "source": [
        "Max-depth does not affect the tree in this case."
      ]
    },
    {
      "cell_type": "markdown",
      "metadata": {
        "id": "CPU4RUMDu2XD"
      },
      "source": [
        "**Evaluation Metrics**"
      ]
    },
    {
      "cell_type": "code",
      "metadata": {
        "colab": {
          "base_uri": "https://localhost:8080/"
        },
        "id": "_AP_pqq5d1D-",
        "outputId": "06abddff-805b-4cfc-9cca-7d215a494e58"
      },
      "source": [
        "metrics.precision_score(y_pred,y_val,average='weighted')"
      ],
      "execution_count": 145,
      "outputs": [
        {
          "output_type": "execute_result",
          "data": {
            "text/plain": [
              "0.6225255382193209"
            ]
          },
          "metadata": {},
          "execution_count": 145
        }
      ]
    },
    {
      "cell_type": "code",
      "metadata": {
        "colab": {
          "base_uri": "https://localhost:8080/"
        },
        "id": "6XZ8PKvyo-l8",
        "outputId": "df9c39e8-26bf-472d-f593-a62ab8040367"
      },
      "source": [
        "metrics.accuracy_score(y_pred,y_val)"
      ],
      "execution_count": 146,
      "outputs": [
        {
          "output_type": "execute_result",
          "data": {
            "text/plain": [
              "0.30478269061675667"
            ]
          },
          "metadata": {},
          "execution_count": 146
        }
      ]
    },
    {
      "cell_type": "markdown",
      "metadata": {
        "id": "YrUpV-mpu7fw"
      },
      "source": [
        "**Impressions:**\n",
        "A large number of people are being admitted into type 'a' hospital especially into Gynecology department with a moderate severity of illness and are expected to stay for a duration of 21-30 days."
      ]
    }
  ]
}